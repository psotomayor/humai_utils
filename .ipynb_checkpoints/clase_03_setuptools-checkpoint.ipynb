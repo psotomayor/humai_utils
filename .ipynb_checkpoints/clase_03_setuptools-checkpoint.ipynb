{
  "cells": [
    {
      "cell_type": "markdown",
      "metadata": {
        "id": "0a8Ss6eY8xHU"
      },
      "source": [
        "<a href=\"https://colab.research.google.com/github/institutohumai/cursos-python/blob/master/PracticasDeDesarrollo/3_Desarrollo_III/1_Setuptools/clase_03_setuptools.ipynb\" target=\"_parent\"><img src=\"https://colab.research.google.com/assets/colab-badge.svg\" alt=\"Open In Colab\" data-canonical-src=\"https://colab.research.google.com/assets/colab-badge.svg\"></a>"
      ]
    },
    {
      "cell_type": "markdown",
      "metadata": {
        "id": "kIHpGasA8xHZ"
      },
      "source": [
        "# 1. Setuptools: Como crear y distribuir tus propios paquetes\n",
        "## 1.1. Introducción\n",
        "¿Cómo se crea un paquete personalizado en Python?  \n",
        "¿Cómo podemos compartirlo junto con sus dependencias?  \n",
        "¿Se puede instalar un paquete con pip desde un repositorio de Git?  \n",
        "\n",
        "En esta sección vamos a aprender a:\n",
        "- Entender los requerimientos de un paquete de Python.\n",
        "- Construir un paquete desde cero o transformar un proyecto existente en un paquete.\n",
        "- Hacer el paquete instalable con pip desde un repositorio.\n",
        "- Actualizar un paquete.\n",
        "\n",
        "## 1.2. Empaquetando el código\n",
        "![image](https://github.com/institutohumai/cursos-python/blob/master/PracticasDeDesarrollo/3_Desarrollo_III/1_Setuptools/images/empaquetando.jpg?raw=1)  \n",
        "Supongamos que tenemos una serie de funciones utilitarias que queremos compartir con nuestro equipo o con la comunidad. Lo primero que vamos a hacer es crear un paquete con ellas. Éste paso es necesario si queremos usar `pip` para la instalación.\n",
        "Vamos a tomar como ejemplo una serie de funciones genéricas que se encuentran alojadas en el archivo `functions.py`"
      ]
    },
    {
      "cell_type": "code",
      "execution_count": null,
      "metadata": {
        "id": "5X_FlEnn8xHb"
      },
      "outputs": [],
      "source": [
        "%%writefile functions.py\n",
        "# No usamos este paquete pero igual lo importamos para generar una dependencia.\n",
        "import requests\n",
        "\n",
        "def saludar_comunidad():\n",
        "\tprint('Hola comunidad de Humai')\n",
        "\n",
        "def informar_clase():\n",
        "\tprint('La siguiente clase es el lunes')"
      ]
    },
    {
      "cell_type": "code",
      "execution_count": null,
      "metadata": {
        "id": "nJQucd7l8xHd",
        "outputId": "bf795a60-abf1-474a-db6a-e24d57753d6c"
      },
      "outputs": [
        {
          "name": "stdout",
          "output_type": "stream",
          "text": [
            "# No usamos este paquete pero igual lo importamos para generar una dependencia.\n",
            "import requests\n",
            "\n",
            "def saludar_comunidad():\n",
            "\tprint('Hola comunidad de Humai')\n",
            "\n",
            "def informar_clase():\n",
            "\tprint('La siguiente clase es el lunes')"
          ]
        }
      ],
      "source": [
        "!cat functions.py"
      ]
    },
    {
      "cell_type": "markdown",
      "metadata": {
        "id": "fSurGakE8xHe"
      },
      "source": [
        "1- Creamos una carpeta con el nombre que vamos a ponerle a nuestro paquete, en este caso se va a llamar `humai_utils` Le agregamos una serie de archivos al mismo:\n",
        "- `humai_utils/functions.py` En este archivo se van a guardar las funciones que queremos compartir, en este caso contiene dos: `saludar_comunidad()` e `informar_clase()`\n",
        "- `humai_utils/__init__.py` Esto le indica a Python que la carpeta `humai_utils` es un paquete, este archivo también nos habilita a importar funciones individualmente de la forma `import saludar_comunidad from humai_utils` en lugar de `from humai_utils.functions import saludar_comunidad`. Para ello tenemos que colocar en la primera linea:  \n",
        "`from .archivo-con-las-funciones import funcion1, funcion2, etc.`"
      ]
    },
    {
      "cell_type": "code",
      "execution_count": null,
      "metadata": {
        "id": "xHUzcwg_8xHg",
        "outputId": "70a2f3f5-081a-4acf-ceb4-ed1627df9718"
      },
      "outputs": [
        {
          "name": "stdout",
          "output_type": "stream",
          "text": [
            "from .functions import informar_clase, saludar_comunidad"
          ]
        }
      ],
      "source": [
        "!cat humai_utils/__init__.py"
      ]
    },
    {
      "cell_type": "markdown",
      "metadata": {
        "id": "3gA1_Zcp8xHh"
      },
      "source": [
        "El archivo `__init__.py` es requerido pero el contenido es opcional, puede estar vacío."
      ]
    },
    {
      "cell_type": "markdown",
      "metadata": {
        "id": "V4k_lW9C8xHi"
      },
      "source": [
        "2- En la raíz del proyecto creamos un archivo con el nombre `setup.py` con el siguiente contenido:"
      ]
    },
    {
      "cell_type": "code",
      "execution_count": null,
      "metadata": {
        "id": "DLCoepSD8xHi"
      },
      "outputs": [],
      "source": [
        "%%writefile setup.py\n",
        "import setuptools\n",
        "\n",
        "with open(\"DESCRIPTION.md\", \"r\", encoding=\"utf-8\") as fh:\n",
        "    long_description = fh.read()\n",
        "\n",
        "setuptools.setup(\n",
        "    name='humai_utils',\n",
        "    version='0.1.0',\n",
        "    author='Ramiro Savoie',\n",
        "    author_email='ramiro@deployr.ai',\n",
        "    description='A compilation of Humai utility functions',\n",
        "    long_description=long_description,\n",
        "    long_description_content_type=\"text/markdown\",\n",
        "    url='https://github.com/institutohumai/humai_utils',\n",
        "    project_urls = {\n",
        "        \"Bug Tracker\": \"https://github.com/institutohumai/humai_utils/issues\"\n",
        "    },\n",
        "    license='MIT',\n",
        "    packages=['humai_utils'],\n",
        "    install_requires=['requests'],\n",
        ")"
      ]
    },
    {
      "cell_type": "code",
      "execution_count": null,
      "metadata": {
        "id": "H6ian9ed8xHj",
        "outputId": "eb1479f8-5e4c-441e-bcb1-eff7f5d5d5af"
      },
      "outputs": [
        {
          "name": "stdout",
          "output_type": "stream",
          "text": [
            "import setuptools\n",
            "\n",
            "with open(\"DESCRIPTION.md\", \"r\", encoding=\"utf-8\") as fh:\n",
            "    long_description = fh.read()\n",
            "\n",
            "setuptools.setup(\n",
            "    name='humai_utils',\n",
            "    version='0.1.0',\n",
            "    author='Ramiro Savoie',\n",
            "    author_email='ramiro@deployr.ai',\n",
            "    description='A compilation of Humai utility functions',\n",
            "    long_description=long_description,\n",
            "    long_description_content_type=\"text/markdown\",\n",
            "    url='https://github.com/institutohumai/humai_utils',\n",
            "    project_urls = {\n",
            "        \"Bug Tracker\": \"https://github.com/institutohumai/humai_utils/issues\"\n",
            "    },\n",
            "    license='MIT',\n",
            "    packages=['humai_utils'],\n",
            "    install_requires=['requests'],\n",
            ")"
          ]
        }
      ],
      "source": [
        "!cat setup.py"
      ]
    },
    {
      "cell_type": "markdown",
      "metadata": {
        "id": "cZoshcuz8xHj"
      },
      "source": [
        "Este archivo le indica a `pip` que necesita nuestro paquete para poder ser instalado. Analicémoslo línea por línea:  \n",
        "- En la primera linea importamos `setuptools`, que es el paquete que permite generar otros paquetes.\n",
        "- A continuación con `with` se abre un archivo con una descripción detallada de lo que hace nuestro paquete y la carga en una variable, la cual se usa más abajo.\n",
        "- La función `.setup()` del paquete `setuptools` recibe varios parametros que describen nuestro paquete:\n",
        "    - Parámetro `name`: Le da nombre al paquete y debe coincidir con el nombre de la carpeta.\n",
        "    - Parámetro `version`: Número de versión del paquete, `pip` lo usa para saber si el paquete instalado debe ser actualizado. Hay que incrementarlo si queremos que los usuarios actualicen.\n",
        "    - Parámetro `long_description`: aquí utilizamos el contenido del archivo abierto previamente.\n",
        "    - Parámetro `long_description_content_type`: Indica el formato de la descripción detallada, en este caso Markdown.\n",
        "    - Parámetro `url`: La URL del repositorio de código del paquete.\n",
        "    - Parámetro `project_urls`: Otros links de referencia del proyecto, como por ejemplo, en donde reportar bugs.\n",
        "    - Parámetro `license`: Licencia con la cual se puede usar y distribuir el paquete, en este caso, MIT. Algunos otros ejemplos pueden encontrarse en [choosealicense.com](choosealicense.com)\n",
        "    - Parámetro `packages`: Lista de todos los paquetes a construir, debe coincidir con el nombre de carpeta del paquete.\n",
        "    - Parámetro `install_requires`: Listado de dependencias sobre las que construimos nuestro paquete. `pip` las va a instalar antes para que nuestro paquete pueda usarlas."
      ]
    },
    {
      "cell_type": "markdown",
      "metadata": {
        "id": "6lDOXYmn8xHk"
      },
      "source": [
        "3- Agregamos el archivo `DESCRIPTION.md` con la descripcion completa del paquete y podría agregarse un archivo LICENSE con la licencia elegida. Son simplemente archivos de texto que no son siempre requeridos. "
      ]
    },
    {
      "cell_type": "code",
      "execution_count": null,
      "metadata": {
        "id": "URh5JrFP8xHk"
      },
      "outputs": [],
      "source": [
        "%%writefile DESCRIPTION.md\n",
        "# Humai Utils\n",
        "\n",
        "Este es un paquete con muchas funciones comunes que encontramos en nuestros proyectos y que queremos compartir con la comunidad."
      ]
    },
    {
      "cell_type": "code",
      "execution_count": null,
      "metadata": {
        "id": "7oDuOa7d8xHk",
        "outputId": "23295ee6-c873-4eec-f4c2-59cb222d7d43"
      },
      "outputs": [
        {
          "name": "stdout",
          "output_type": "stream",
          "text": [
            "# Humai Utils\n",
            "\n",
            "Este es un paquete con muchas funciones comunes que encontramos en nuestros proyectos y que queremos compartir con la comunidad."
          ]
        }
      ],
      "source": [
        "!cat DESCRIPTION.md"
      ]
    },
    {
      "cell_type": "markdown",
      "metadata": {
        "id": "NOvJLaOw8xHl"
      },
      "source": [
        "4- Con nuestro flamante paquete ya descripto por el `setup.py`, y en caso de que no lo hubieramos hecho, podemos iniciar un repositorio local con el comando `git init`.  \n",
        "Añadimos un archivo `.gitignore` para no versionar en el repositorio archivos innecesarios que hagan crecer su tamaño.  \n",
        "Si se trabajó dentro de un virtual environment también hay que ignorar su carpeta."
      ]
    },
    {
      "cell_type": "markdown",
      "metadata": {
        "id": "ZC5cHO8n8xHl"
      },
      "source": [
        "![image](https://github.com/institutohumai/cursos-python/blob/master/PracticasDeDesarrollo/3_Desarrollo_III/1_Setuptools/images/git-init.png?raw=1)"
      ]
    },
    {
      "cell_type": "markdown",
      "metadata": {
        "id": "knefWaD_8xHl"
      },
      "source": [
        "Generalmente los paquetes de Python están compuestos de módulos y funciones, no suele haber notebooks de Jupyter. En este caso la incluimos solo para fines didácticos. Una vez que commiteamos la primera versión de nuestro paquete, pasemos a ver a como distribuirlo.  \n",
        "![image](https://github.com/institutohumai/cursos-python/blob/master/PracticasDeDesarrollo/3_Desarrollo_III/1_Setuptools/images/primer-paquete.png?raw=1)  \n",
        "## 1.3. Distribuyendo el código vía GitHub\n",
        "![image](https://github.com/institutohumai/cursos-python/blob/master/PracticasDeDesarrollo/3_Desarrollo_III/1_Setuptools/images/delivery.jpg?raw=1)  \n",
        "Lo que tenemos que hacer ahora es crear el repositorio en cualquier plataforma que soporte Git como GitHub o BitBucket.\n",
        "![image](https://github.com/institutohumai/cursos-python/blob/master/PracticasDeDesarrollo/3_Desarrollo_III/1_Setuptools/images/primer-repo.png?raw=1)  \n",
        "Generalmente se le coloca al repositorio el mismo nombre que el paquete.  \n",
        "A continuación debemos indicar la visibilidad del paquete, si va a permanecer privado en nuestra cuenta o nuestra organizacion o si va a poder ser instalado por cualquier usuario. Una breve descripción tambien ayuda a que cualquier persona que se encuentre con el paquete pueda tener una idea de para que sirve.  \n",
        "![image](https://github.com/institutohumai/cursos-python/blob/master/PracticasDeDesarrollo/3_Desarrollo_III/1_Setuptools/images/descripcion.png?raw=1)  \n",
        "De las opciones a continuación no necesitamos ninguna porque ya nos encargamos previamente: ya agregamos un `.gitignore`, ya seleccionamos una licencia y ya escribimos un `README.md`. Le damos click al botón \"Create Repository\"  \n",
        "![image](https://github.com/institutohumai/cursos-python/blob/master/PracticasDeDesarrollo/3_Desarrollo_III/1_Setuptools/images/crear-repo.png?raw=1)  \n",
        "Ya tenemos nuestro repositorio creado! Ahora entre las tres opciones que nos da GitHub, tenemos que usar la segunda, dado que nosotros ya tenemos un repositorio existente, en nuestra máquina local. Lo que tenemos que hacer ahora es \"enlazarlos\".  \n",
        "En la terminal en la que corrimos el `git commit` corremos el comando que nos indica (seguramente los nombres van a ser distintos):  \n",
        "![image](https://github.com/institutohumai/cursos-python/blob/master/PracticasDeDesarrollo/3_Desarrollo_III/1_Setuptools/images/repositorio-existente.png?raw=1)  \n",
        "Este comando no nos da ninguna respuesta cuando lo ejecutamos (¿podria no?), pero funcionó.  \n",
        "![image](https://github.com/institutohumai/cursos-python/blob/master/PracticasDeDesarrollo/3_Desarrollo_III/1_Setuptools/images/remote-origin.png?raw=1)  \n",
        "Lo que hace a continuación es generar un nuevo branch llamado `main`, puede que ya estemos trabajando en el mismo, en ese caso no va a hacer nada:  \n",
        "![image](https://github.com/institutohumai/cursos-python/blob/master/PracticasDeDesarrollo/3_Desarrollo_III/1_Setuptools/images/branch-main.png?raw=1)  \n",
        "Y finalmente hacemos un `git push` desde nuestro repositorio hacia el de GitHub:  \n",
        "![image](https://github.com/institutohumai/cursos-python/blob/master/PracticasDeDesarrollo/3_Desarrollo_III/1_Setuptools/images/primer-push.png?raw=1)  \n",
        "Felicitaciones! Publicaste tu primer paquete de Python para que el mundo pueda maravillarse con tu código.  \n",
        "Si volvemos a entrar al repositorio de Github vamos a ver el código de nuestro paquete.  \n",
        "![image](https://github.com/institutohumai/cursos-python/blob/master/PracticasDeDesarrollo/3_Desarrollo_III/1_Setuptools/images/primer-paquete-publicado.png?raw=1)  \n",
        "Y ahora, como hacemos para instalarlo y usarlo en otro proyecto?  \n",
        "## 1.3 Utilizando nuestro paquete en otro proyecto\n",
        "Vamos a necesitar la URL de clonado de nuestro repo, no la que sale en el navegador, ésta:  \n",
        "![image](https://github.com/institutohumai/cursos-python/blob/master/PracticasDeDesarrollo/3_Desarrollo_III/1_Setuptools/images/url-repo-https.png?raw=1)  \n",
        "Para mantenerlo simple vamos a usar la opción con https. Copiamos la URL del repositorio y nos dirigimos hacia el proyecto que quiere utilizar nuestro paquete, por supuesto abrimos una nueva terminal ahí.  \n",
        "![image](https://github.com/institutohumai/cursos-python/blob/master/PracticasDeDesarrollo/3_Desarrollo_III/1_Setuptools/images/usando-nuestro-paquete.png?raw=1)  \n",
        "En nuestro proyecto, llamado `usando-nuestro-paquete` para que no queden dudas, vamos a instalar y usar nuestro nuevo paquete. Tenemos dos formas de hacerlo:\n",
        "### 1.3.1 Instalando con pip en la terminal\n",
        "La primera es instalarlo con `pip`, en este caso el nombre de nuestro paquete va a ser la URL de clonado de nuestro repositorio, pero agregando el prefijo `git+` a la URL de esta manera **git+**https://github.com/deployr-ai/humai_utils.git  \n",
        "Quedando entonces así:  \n",
        "`pip install git+https://github.com/deployr-ai/humai_utils.git`  \n",
        "Cuando lo corramos `pip` va a clonar el repositorio por nosotros, va a leer el archivo `setup.py` y va a instalar las dependencias que le indicamos:  \n",
        "![image](https://github.com/institutohumai/cursos-python/blob/master/PracticasDeDesarrollo/3_Desarrollo_III/1_Setuptools/images/build-local.png?raw=1)  \n",
        "En la última línea nos confirma que nuestro paquete fue instalado, con versión y todo!  \n",
        "### 1.3.2 Agregándolo como dependencia\n",
        "La segunda forma de usarlo es dentro del archivo `requirements.txt` junto con las otras dependencias. En este caso la URL que tenemos que agregar es la misma que en el caso anterior.  \n",
        "Aqui podemos ver un ejemplo en conjunto con otra dependencia `boto3`"
      ]
    },
    {
      "cell_type": "code",
      "execution_count": null,
      "metadata": {
        "id": "ltQf3mXt8xHm",
        "outputId": "2ed76266-b50c-44b5-9d69-1fb5ab15e870"
      },
      "outputs": [
        {
          "name": "stdout",
          "output_type": "stream",
          "text": [
            "pandas\n",
            "git+https://github.com/deployr-ai/humai_utils.git"
          ]
        }
      ],
      "source": [
        "!cat usando-nuestro-paquete/requirements.txt"
      ]
    },
    {
      "cell_type": "markdown",
      "metadata": {
        "id": "77OMxKe08xHm"
      },
      "source": [
        "En este caso para instalar usaríamos `pip install -r requirements.txt` y el resultado sería el mismo:\n",
        "![image](https://github.com/institutohumai/cursos-python/blob/master/PracticasDeDesarrollo/3_Desarrollo_III/1_Setuptools/images/con-pandas.png?raw=1)\n",
        "Pequeño disclaimer: En ambos casos estamos instalando nuestro paquete en el **ambiente global**, lo cual no es una buena práctica, lo correcto es trabajarlo, como vimos en la clase anterior, con virtual environment, con conda o con Poetry. Gracias por su atención."
      ]
    },
    {
      "cell_type": "markdown",
      "metadata": {
        "id": "p7p-DbnO8xHm"
      },
      "source": [
        "## 1.4 Uso\n",
        "Para poder utilizar nuestro nuevo paquete instalado, se importa como cualquier otro paquete del sistema con `import humai_utils` o `from humai_utils import saludar_comunidad`"
      ]
    },
    {
      "cell_type": "code",
      "execution_count": null,
      "metadata": {
        "id": "vjP58eqg8xHm",
        "outputId": "8b6b7240-4d60-4732-9185-3cba753255fd"
      },
      "outputs": [
        {
          "name": "stdout",
          "output_type": "stream",
          "text": [
            "# Importando nuestro propio paquete\n",
            "from humai_utils import saludar_comunidad\n",
            "\n",
            "# Llamando a una de sus funciones\n",
            "saludar_comunidad()"
          ]
        }
      ],
      "source": [
        "!cat usando-nuestro-paquete/main.py"
      ]
    },
    {
      "cell_type": "markdown",
      "metadata": {
        "id": "_598r0N_8xHn"
      },
      "source": [
        "## 1.5 Desinstalación\n",
        "Y para desinstalarlo? En ese caso usamos `pip uninstall humai_utils`, sin toda la URL larga:  \n",
        "![image](https://github.com/institutohumai/cursos-python/blob/master/PracticasDeDesarrollo/3_Desarrollo_III/1_Setuptools/images/desinstalacion.png?raw=1)  \n",
        "Nos pide confirmación por supuesto.\n",
        "\n",
        "## 1.6 Actualizando el paquete\n",
        "Si uno de nuestros compañeros agrega una nueva función y decide commitearla a nuestro repositorio, podemos usar `pip` para actualizar el paquete. Cada vez que se haga la llamada:\n",
        "`pip install git+**https://github.com/deployr-ai/humai_utils.git`\n",
        "`pip` va a chequear la versión en el archivo `setup.py` local contra la del repositorio, si hay un incremento de la misma, se va a actualizar la versión local.\n",
        "\n",
        "## 1.7 Conclusiones\n",
        "Como hemos podido ver, combinando el poder de empaquetado de Python junto con Git tenemos las siguientes ventajas:\n",
        "- Fácil distribución, instalación y actualización desde una sola fuente central (una fuente de verdad)\n",
        "- Control de versiones de nuestro paquete y poder colaborar con otros desarrolladores.\n",
        "- Actualizar el paquete cuando se modifica y que nuestros usuarios puedan ser notificados del cambio.\n",
        "- Poder instalar con pip y actualizar paquetes desde un repositorio privado."
      ]
    },
    {
      "cell_type": "code",
      "execution_count": null,
      "metadata": {
        "id": "gC6mBFsz8xHn"
      },
      "outputs": [],
      "source": []
    }
  ],
  "metadata": {
    "kernelspec": {
      "display_name": "Python 3 (ipykernel)",
      "language": "python",
      "name": "python3"
    },
    "language_info": {
      "codemirror_mode": {
        "name": "ipython",
        "version": 3
      },
      "file_extension": ".py",
      "mimetype": "text/x-python",
      "name": "python",
      "nbconvert_exporter": "python",
      "pygments_lexer": "ipython3",
      "version": "3.7.6"
    },
    "colab": {
      "provenance": []
    }
  },
  "nbformat": 4,
  "nbformat_minor": 0
}